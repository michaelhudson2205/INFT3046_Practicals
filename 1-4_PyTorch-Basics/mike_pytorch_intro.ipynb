{
 "cells": [
  {
   "cell_type": "markdown",
   "id": "d0fdee15",
   "metadata": {},
   "source": [
    "# Introduction to PyTorch\n",
    "## This file copied by Michael Hudson\n",
    "### What is PyTorch\n",
    "An open source machine learning library for Python."
   ]
  },
  {
   "cell_type": "code",
   "execution_count": 2,
   "id": "9b425fc0",
   "metadata": {},
   "outputs": [],
   "source": [
    "# import the module\n",
    "import torch"
   ]
  },
  {
   "cell_type": "markdown",
   "id": "224bccfb",
   "metadata": {},
   "source": [
    "PyTorch Tensors - a specialised data structure that are very similar to arrays and matrices. In PyTorch, we use tensors to encode the inputs and outputs of a model, as well as the model's parameters.\n",
    "Construct a vector of 3 elements"
   ]
  },
  {
   "cell_type": "code",
   "execution_count": 3,
   "id": "faf6aee8",
   "metadata": {},
   "outputs": [
    {
     "name": "stdout",
     "output_type": "stream",
     "text": [
      "tensor([ 5.3000,  2.1000, -3.1000])\n"
     ]
    }
   ],
   "source": [
    "# define a tensor object\n",
    "x = torch.tensor([5.3, 2.1, -3.1])\n",
    "print(x)"
   ]
  },
  {
   "cell_type": "code",
   "execution_count": 4,
   "id": "094052d3",
   "metadata": {},
   "outputs": [
    {
     "name": "stdout",
     "output_type": "stream",
     "text": [
      "tensor([ 4.5000,  2.3000, -1.5000,  2.0000])\n"
     ]
    }
   ],
   "source": [
    "x = torch.tensor([4.5, 2.3, -1.5, 2])\n",
    "print(x)"
   ]
  },
  {
   "cell_type": "markdown",
   "id": "66e21f6a",
   "metadata": {},
   "source": [
    "Construct a matrix with specified values"
   ]
  },
  {
   "cell_type": "code",
   "execution_count": 5,
   "id": "251a2d75",
   "metadata": {},
   "outputs": [
    {
     "name": "stdout",
     "output_type": "stream",
     "text": [
      "tensor([[5.3000, 2.1000],\n",
      "        [0.2000, 2.1000]])\n"
     ]
    }
   ],
   "source": [
    "A = torch.tensor([[5.3, 2.1], [0.2, 2.1]])\n",
    "print(A)"
   ]
  },
  {
   "cell_type": "code",
   "execution_count": 6,
   "id": "22eb3030",
   "metadata": {},
   "outputs": [
    {
     "name": "stdout",
     "output_type": "stream",
     "text": [
      "tensor([[1.5000, 2.0000],\n",
      "        [3.1000, 4.2000]])\n"
     ]
    }
   ],
   "source": [
    "A = torch.tensor([[1.5, 2.0], [3.1, 4.2]])\n",
    "print(A)"
   ]
  },
  {
   "cell_type": "markdown",
   "id": "4a1db2eb",
   "metadata": {},
   "source": [
    "Construct a matrix with random or fixed values\n",
    "- `torch.rand` - returns a tensor filled with random numbers from a uniform distribution on the interval [0, 1)\n",
    "(https://pytorch.org/docs/stable/generated/torch.rand.html)\n",
    "- `torch.zeros` - returns a tensor filled with the scalar value 0\n",
    "(https://pytorch.org/docs/stable/generated/torch.zeros.html)\n",
    "- `torch.ones` - returns a tensor filled with the scalar value 1\n",
    "(https://pytorch.org/docs/stable/generated/torch.ones.html)"
   ]
  },
  {
   "cell_type": "code",
   "execution_count": 7,
   "id": "1db9fe69",
   "metadata": {},
   "outputs": [
    {
     "name": "stdout",
     "output_type": "stream",
     "text": [
      "tensor([[0.3639, 0.8036],\n",
      "        [0.6743, 0.8346],\n",
      "        [0.8452, 0.2515],\n",
      "        [0.0393, 0.5910],\n",
      "        [0.7767, 0.5257],\n",
      "        [0.2228, 0.1938],\n",
      "        [0.2706, 0.6423],\n",
      "        [0.3103, 0.3193],\n",
      "        [0.8491, 0.4736],\n",
      "        [0.8741, 0.5526]])\n"
     ]
    }
   ],
   "source": [
    "A = torch.rand(10, 2)\n",
    "print(A)"
   ]
  },
  {
   "cell_type": "code",
   "execution_count": 8,
   "id": "7ef09d37",
   "metadata": {},
   "outputs": [
    {
     "name": "stdout",
     "output_type": "stream",
     "text": [
      "tensor([[0.4664, 0.1584, 0.8527],\n",
      "        [0.2163, 0.5872, 0.5053],\n",
      "        [0.0083, 0.0244, 0.2549],\n",
      "        [0.3137, 0.4840, 0.8434],\n",
      "        [0.4468, 0.8703, 0.2451],\n",
      "        [0.3444, 0.6102, 0.5986],\n",
      "        [0.4510, 0.8998, 0.7473],\n",
      "        [0.3252, 0.9323, 0.6706],\n",
      "        [0.2416, 0.8035, 0.9316],\n",
      "        [0.7113, 0.3348, 0.9712]])\n"
     ]
    }
   ],
   "source": [
    "A = torch.rand(10, 3)\n",
    "print(A)"
   ]
  },
  {
   "cell_type": "code",
   "execution_count": 9,
   "id": "e4323b7c",
   "metadata": {},
   "outputs": [
    {
     "name": "stdout",
     "output_type": "stream",
     "text": [
      "tensor([[0., 0.],\n",
      "        [0., 0.],\n",
      "        [0., 0.],\n",
      "        [0., 0.],\n",
      "        [0., 0.],\n",
      "        [0., 0.],\n",
      "        [0., 0.],\n",
      "        [0., 0.],\n",
      "        [0., 0.],\n",
      "        [0., 0.]])\n"
     ]
    }
   ],
   "source": [
    "A = torch.zeros(10, 2)\n",
    "print(A)"
   ]
  },
  {
   "cell_type": "code",
   "execution_count": 10,
   "id": "f75df848",
   "metadata": {},
   "outputs": [
    {
     "name": "stdout",
     "output_type": "stream",
     "text": [
      "tensor([[1., 1., 1.],\n",
      "        [1., 1., 1.],\n",
      "        [1., 1., 1.],\n",
      "        [1., 1., 1.],\n",
      "        [1., 1., 1.],\n",
      "        [1., 1., 1.],\n",
      "        [1., 1., 1.],\n",
      "        [1., 1., 1.],\n",
      "        [1., 1., 1.],\n",
      "        [1., 1., 1.]])\n",
      "tensor([[1., 0., 1.],\n",
      "        [1., 0., 1.],\n",
      "        [1., 0., 1.],\n",
      "        [1., 0., 1.],\n",
      "        [1., 0., 1.],\n",
      "        [1., 0., 1.],\n",
      "        [1., 0., 1.],\n",
      "        [1., 0., 1.],\n",
      "        [1., 0., 1.],\n",
      "        [1., 0., 1.]])\n"
     ]
    }
   ],
   "source": [
    "A = torch.ones(10, 3)\n",
    "print(A)\n",
    "A[:, 1] = 0\n",
    "print(A)"
   ]
  },
  {
   "cell_type": "markdown",
   "id": "fbad979b",
   "metadata": {},
   "source": [
    "Attributes of a Tensor\n",
    "- `torch.Tensor.size` - returns the size of the self tensor. If dim is not specified, the returned value is a torch.Size, a subclass of tuple. If dim is specified, returns an int holding the size of that dimension. (https://pytorch.org/docs/stable/generated/torch.Tensor.size.html)\n",
    "- `torch.Tensor.dim` - returns the number of dimensions of self tensor. (https://pytorch.org/docs/stable/generated/torch.Tensor.dim.html)\n",
    "- `torch.Tensor.type` - returns the type if dtype is not provided, else casts this object to the specified type. (https://pytorch.org/docs/stable/generated/torch.Tensor.type.html)"
   ]
  },
  {
   "cell_type": "code",
   "execution_count": 11,
   "id": "9c5ca5fc",
   "metadata": {},
   "outputs": [
    {
     "name": "stdout",
     "output_type": "stream",
     "text": [
      "tensor([[[0.8121, 0.0964],\n",
      "         [0.1227, 0.1872]],\n",
      "\n",
      "        [[0.4208, 0.5071],\n",
      "         [0.2934, 0.1153]],\n",
      "\n",
      "        [[0.0154, 0.9603],\n",
      "         [0.4932, 0.1871]],\n",
      "\n",
      "        [[0.0243, 0.1066],\n",
      "         [0.9187, 0.3779]],\n",
      "\n",
      "        [[0.4926, 0.8556],\n",
      "         [0.8343, 0.9527]]])\n"
     ]
    }
   ],
   "source": [
    "B = torch.rand(5, 2, 2)\n",
    "print(B)"
   ]
  },
  {
   "cell_type": "code",
   "execution_count": 12,
   "id": "58bcbbe1",
   "metadata": {},
   "outputs": [
    {
     "name": "stdout",
     "output_type": "stream",
     "text": [
      "tensor([[[0.2682, 0.9569, 0.2668],\n",
      "         [0.4098, 0.5896, 0.1608],\n",
      "         [0.7380, 0.7781, 0.4695]],\n",
      "\n",
      "        [[0.5514, 0.0134, 0.2366],\n",
      "         [0.4457, 0.7697, 0.7052],\n",
      "         [0.2361, 0.5845, 0.0233]],\n",
      "\n",
      "        [[0.3697, 0.9173, 0.2249],\n",
      "         [0.0916, 0.8970, 0.1201],\n",
      "         [0.1968, 0.4631, 0.3273]],\n",
      "\n",
      "        [[0.4343, 0.3417, 0.6172],\n",
      "         [0.6975, 0.3484, 0.1090],\n",
      "         [0.5101, 0.0586, 0.8102]],\n",
      "\n",
      "        [[0.4446, 0.3405, 0.1535],\n",
      "         [0.2925, 0.1110, 0.8884],\n",
      "         [0.0117, 0.8808, 0.3213]]])\n"
     ]
    }
   ],
   "source": [
    "C = torch.rand(5, 3, 3)\n",
    "print(C)"
   ]
  },
  {
   "cell_type": "code",
   "execution_count": 13,
   "id": "cea25779",
   "metadata": {},
   "outputs": [
    {
     "data": {
      "text/plain": [
       "torch.Size([5, 2, 2])"
      ]
     },
     "execution_count": 13,
     "metadata": {},
     "output_type": "execute_result"
    }
   ],
   "source": [
    "B.size()"
   ]
  },
  {
   "cell_type": "code",
   "execution_count": 14,
   "id": "127cc480",
   "metadata": {},
   "outputs": [
    {
     "data": {
      "text/plain": [
       "3"
      ]
     },
     "execution_count": 14,
     "metadata": {},
     "output_type": "execute_result"
    }
   ],
   "source": [
    "B.dim()"
   ]
  },
  {
   "cell_type": "code",
   "execution_count": 15,
   "id": "95321ad7",
   "metadata": {},
   "outputs": [
    {
     "data": {
      "text/plain": [
       "'torch.FloatTensor'"
      ]
     },
     "execution_count": 15,
     "metadata": {},
     "output_type": "execute_result"
    }
   ],
   "source": [
    "B.type()"
   ]
  },
  {
   "cell_type": "code",
   "execution_count": 16,
   "id": "201ed73a",
   "metadata": {},
   "outputs": [
    {
     "data": {
      "text/plain": [
       "torch.Size([5, 3, 3])"
      ]
     },
     "execution_count": 16,
     "metadata": {},
     "output_type": "execute_result"
    }
   ],
   "source": [
    "C.size()"
   ]
  },
  {
   "cell_type": "code",
   "execution_count": 17,
   "id": "44ed3b05",
   "metadata": {},
   "outputs": [
    {
     "data": {
      "text/plain": [
       "'torch.FloatTensor'"
      ]
     },
     "execution_count": 17,
     "metadata": {},
     "output_type": "execute_result"
    }
   ],
   "source": [
    "C.type()"
   ]
  },
  {
   "cell_type": "code",
   "execution_count": 18,
   "id": "53ef027e",
   "metadata": {},
   "outputs": [
    {
     "data": {
      "text/plain": [
       "3"
      ]
     },
     "execution_count": 18,
     "metadata": {},
     "output_type": "execute_result"
    }
   ],
   "source": [
    "C.dim()"
   ]
  },
  {
   "cell_type": "markdown",
   "id": "c49fbb73",
   "metadata": {},
   "source": [
    "Arithmetic operations of tensors\n",
    "- Addition - `+`\n",
    "- Subtraction - `-`\n",
    "- Multiplication\n",
    "  - Elementwise product: `*` or `torch.mul`\n",
    "  - Matrix multiplication: `torch.matmul` or `torch.mm`\n",
    "- Division - `/`\n",
    "\n",
    "Tips\n",
    "- Check tensor sizes for algebra computations like multiplication `torch.mm(X1, X2)` with `X1.size()`, `X2.size()`. Refer to **Broadcasting Semantics** for details: (https://pytorch.org/docs/stable/notes/broadcasting.html#broadcasting-semantics).\n",
    "- Check tensor type for data manipulations with `X.type()`"
   ]
  },
  {
   "cell_type": "code",
   "execution_count": 19,
   "id": "6666788a",
   "metadata": {},
   "outputs": [
    {
     "name": "stdout",
     "output_type": "stream",
     "text": [
      "A:  tensor([[0.0366, 0.2541],\n",
      "        [0.1342, 0.7612]])\n",
      "\n",
      "B:  tensor([[0.6944, 0.8117],\n",
      "        [0.9060, 0.2517]])\n",
      "\n",
      "C:  tensor([[1.3887, 1.6235],\n",
      "        [1.8120, 0.5034]])\n",
      "\n",
      "D:  tensor([[1.4253, 1.8776],\n",
      "        [1.9462, 1.2646]])\n",
      "\n",
      "E:  tensor([[0.0254, 0.2063],\n",
      "        [0.1216, 0.1916]])\n"
     ]
    }
   ],
   "source": [
    "A = torch.rand(2, 2)\n",
    "B = torch.rand(2, 2)\n",
    "\n",
    "C = 2 * B\n",
    "D = A + C\n",
    "E = A * B\n",
    "\n",
    "print(\"A: \", A)\n",
    "print(\"\")\n",
    "print(\"B: \", B)\n",
    "print(\"\")\n",
    "print(\"C: \", C)\n",
    "print(\"\")\n",
    "print(\"D: \", D)\n",
    "print(\"\")\n",
    "print(\"E: \", E)"
   ]
  },
  {
   "cell_type": "code",
   "execution_count": 20,
   "id": "a9434a7d",
   "metadata": {},
   "outputs": [
    {
     "name": "stdout",
     "output_type": "stream",
     "text": [
      "A:  tensor([[0.6294, 0.7422],\n",
      "        [0.0174, 0.8870]])\n",
      "\n",
      "B:  tensor([[0.4169, 0.4340],\n",
      "        [0.7150, 0.5805]])\n",
      "\n",
      "C:  tensor([[0.2624, 0.3221],\n",
      "        [0.0124, 0.5149]])\n",
      "\n",
      "D:  tensor([[0.6793, 0.7561],\n",
      "        [0.7275, 1.0954]])\n",
      "\n",
      "E:  tensor([[-0.3670, -0.4201],\n",
      "        [-0.0050, -0.3721]])\n"
     ]
    }
   ],
   "source": [
    "A = torch.rand(2, 2)\n",
    "B = torch.rand(2, 2)\n",
    "\n",
    "C = A * B\n",
    "D = C + B\n",
    "E = C - A\n",
    "\n",
    "print(\"A: \", A)\n",
    "print(\"\")\n",
    "print(\"B: \", B)\n",
    "print(\"\")\n",
    "print(\"C: \", C)\n",
    "print(\"\")\n",
    "print(\"D: \", D)\n",
    "print(\"\")\n",
    "print(\"E: \", E)"
   ]
  },
  {
   "cell_type": "markdown",
   "id": "4219e228",
   "metadata": {},
   "source": [
    "Other tensor operations and functions\n",
    "\n",
    "- `torch.arange` - returns a 1-D tensor of size (end - start)/step with values from the interval [start, end] taken with common difference step beginning from start. (https://pytorch.org/docs/stable/generated/torch.arange.html)\n",
    "\n",
    "- `torch.randperm` - returns a random permutation of integers from 0 to n-1. (https://pytorch.org/docs/stable/generated/torch.randperm.html)\n",
    "\n",
    "- `torch.Tensor.view` - returns a new tensor with the same data as the self tensor but of a different shape. (https://pytorch.org/docs/stable/generated/torch.Tensor.view.html) *Note that the original tensor x was NOT modified*\n",
    "\n",
    "- `torch.Tensor.to` - returns a Tensor with the specified dtype. (https://pytorch.org/docs/stable/generated/torch.Tensor.to.html#torch.Tensor.to)\n",
    "\n",
    "- Indexing and slicing - `tensor[0]` returns the first row, `tensor[:, 0]` returns the first column\n",
    "\n",
    "- Updating values in a tensor - `tensor[:, 1] = 0` sets the second column to value 1"
   ]
  },
  {
   "cell_type": "code",
   "execution_count": 21,
   "id": "fbfd711d",
   "metadata": {},
   "outputs": [
    {
     "name": "stdout",
     "output_type": "stream",
     "text": [
      "tensor([0, 1, 2, 3, 4, 5, 6, 7, 8, 9])\n",
      "torch.LongTensor\n"
     ]
    }
   ],
   "source": [
    "x = torch.arange(10)\n",
    "print(x)\n",
    "print(x.type())"
   ]
  },
  {
   "cell_type": "code",
   "execution_count": 22,
   "id": "66371747",
   "metadata": {},
   "outputs": [
    {
     "name": "stdout",
     "output_type": "stream",
     "text": [
      "tensor([0, 1, 2, 3, 4])\n",
      "torch.LongTensor\n"
     ]
    }
   ],
   "source": [
    "x = torch.arange(5)\n",
    "print(x)\n",
    "print(x.type())"
   ]
  },
  {
   "cell_type": "code",
   "execution_count": 23,
   "id": "a0fdce90",
   "metadata": {},
   "outputs": [
    {
     "name": "stdout",
     "output_type": "stream",
     "text": [
      "tensor([1, 2, 4, 0, 3])\n",
      "torch.LongTensor\n"
     ]
    }
   ],
   "source": [
    "x = torch.randperm(5)\n",
    "print(x)\n",
    "print(x.type())"
   ]
  },
  {
   "cell_type": "code",
   "execution_count": 24,
   "id": "95f08c80",
   "metadata": {},
   "outputs": [
    {
     "name": "stdout",
     "output_type": "stream",
     "text": [
      "tensor([5, 7, 3, 0, 4, 9, 8, 6, 2, 1])\n",
      "torch.LongTensor\n"
     ]
    }
   ],
   "source": [
    "x = torch.randperm(10)\n",
    "print(x)\n",
    "print(x.type())"
   ]
  },
  {
   "cell_type": "code",
   "execution_count": 25,
   "id": "41f36508",
   "metadata": {},
   "outputs": [
    {
     "name": "stdout",
     "output_type": "stream",
     "text": [
      "tensor([0, 1, 2, 3, 4, 5, 6, 7, 8, 9])\n",
      "torch.LongTensor\n"
     ]
    }
   ],
   "source": [
    "x = torch.arange(10).long()\n",
    "print(x)\n",
    "print(x.type())"
   ]
  },
  {
   "cell_type": "code",
   "execution_count": 26,
   "id": "8820b466",
   "metadata": {},
   "outputs": [
    {
     "name": "stdout",
     "output_type": "stream",
     "text": [
      "tensor([0, 1, 2, 3, 4, 5, 6, 7, 8, 9])\n"
     ]
    }
   ],
   "source": [
    "x = torch.arange(10)\n",
    "print(x)"
   ]
  },
  {
   "cell_type": "code",
   "execution_count": 27,
   "id": "8b87f83f",
   "metadata": {},
   "outputs": [
    {
     "name": "stdout",
     "output_type": "stream",
     "text": [
      "tensor([[0, 1, 2, 3, 4],\n",
      "        [5, 6, 7, 8, 9]])\n"
     ]
    }
   ],
   "source": [
    "print(x.view(2, 5))"
   ]
  },
  {
   "cell_type": "code",
   "execution_count": 28,
   "id": "9c5e186b",
   "metadata": {},
   "outputs": [
    {
     "name": "stdout",
     "output_type": "stream",
     "text": [
      "tensor([[0, 1],\n",
      "        [2, 3],\n",
      "        [4, 5],\n",
      "        [6, 7],\n",
      "        [8, 9]])\n"
     ]
    }
   ],
   "source": [
    "print(x.view(5, 2))"
   ]
  },
  {
   "cell_type": "code",
   "execution_count": 29,
   "id": "9e6195c2",
   "metadata": {},
   "outputs": [
    {
     "name": "stdout",
     "output_type": "stream",
     "text": [
      "tensor([0, 1, 2, 3, 4, 5, 6, 7, 8, 9])\n"
     ]
    }
   ],
   "source": [
    "# the original tensor x remains unchanged\n",
    "print(x)"
   ]
  },
  {
   "cell_type": "code",
   "execution_count": 30,
   "id": "27620f15",
   "metadata": {},
   "outputs": [
    {
     "name": "stdout",
     "output_type": "stream",
     "text": [
      "x:  tensor([0, 1, 2, 3, 4, 5, 6, 7, 8, 9])\n",
      "\n",
      "y:  tensor([[0, 1],\n",
      "        [2, 3],\n",
      "        [4, 5],\n",
      "        [6, 7],\n",
      "        [8, 9]])\n"
     ]
    }
   ],
   "source": [
    "# create a new tensor y to store the reshaped tensor x\n",
    "y = x.view(5, 2)\n",
    "\n",
    "print(\"x: \", x)\n",
    "print(\"\")\n",
    "print(\"y: \", y)"
   ]
  },
  {
   "cell_type": "code",
   "execution_count": 31,
   "id": "afa73147",
   "metadata": {},
   "outputs": [
    {
     "name": "stdout",
     "output_type": "stream",
     "text": [
      "tensor([[0., 1.],\n",
      "        [2., 3.],\n",
      "        [4., 5.],\n",
      "        [6., 7.],\n",
      "        [8., 9.]], dtype=torch.float64)\n"
     ]
    }
   ],
   "source": [
    "y = y.to(torch.float64)\n",
    "print(y)"
   ]
  },
  {
   "cell_type": "code",
   "execution_count": 32,
   "id": "d763f47d",
   "metadata": {},
   "outputs": [
    {
     "name": "stdout",
     "output_type": "stream",
     "text": [
      "tensor([0., 1.], dtype=torch.float64)\n"
     ]
    }
   ],
   "source": [
    "print(y[0])"
   ]
  },
  {
   "cell_type": "code",
   "execution_count": 33,
   "id": "0e6d184d",
   "metadata": {},
   "outputs": [
    {
     "name": "stdout",
     "output_type": "stream",
     "text": [
      "tensor([2., 3.], dtype=torch.float64)\n"
     ]
    }
   ],
   "source": [
    "print(y[1])"
   ]
  },
  {
   "cell_type": "code",
   "execution_count": 34,
   "id": "6a06cb6b",
   "metadata": {},
   "outputs": [
    {
     "name": "stdout",
     "output_type": "stream",
     "text": [
      "tensor([4., 5.], dtype=torch.float64)\n"
     ]
    }
   ],
   "source": [
    "v = y[2]\n",
    "print(v)"
   ]
  },
  {
   "cell_type": "code",
   "execution_count": 35,
   "id": "f0d02a55",
   "metadata": {},
   "outputs": [
    {
     "name": "stdout",
     "output_type": "stream",
     "text": [
      "tensor([[2., 3.],\n",
      "        [4., 5.],\n",
      "        [6., 7.]], dtype=torch.float64)\n"
     ]
    }
   ],
   "source": [
    "print(y[1:4])"
   ]
  },
  {
   "cell_type": "code",
   "execution_count": 36,
   "id": "97b9f0c5",
   "metadata": {},
   "outputs": [
    {
     "name": "stdout",
     "output_type": "stream",
     "text": [
      "tensor([[2., 3.],\n",
      "        [4., 5.],\n",
      "        [6., 7.]], dtype=torch.float64)\n"
     ]
    }
   ],
   "source": [
    "idx = 1\n",
    "n = 3\n",
    "\n",
    "print(y[idx : idx + n])"
   ]
  },
  {
   "cell_type": "code",
   "execution_count": 37,
   "id": "306dcd30",
   "metadata": {},
   "outputs": [
    {
     "name": "stdout",
     "output_type": "stream",
     "text": [
      "tensor([[2., 3.],\n",
      "        [4., 5.],\n",
      "        [6., 7.]], dtype=torch.float64)\n",
      "\n",
      "dimension= 2\n",
      "torch.Size([3, 2])\n"
     ]
    }
   ],
   "source": [
    "z = y[1 : 1 + 3]\n",
    "print(z)\n",
    "\n",
    "print(\"\")\n",
    "\n",
    "print(\"dimension=\", z.dim())\n",
    "print(z.size())"
   ]
  },
  {
   "cell_type": "code",
   "execution_count": 38,
   "id": "d4fbf4af",
   "metadata": {},
   "outputs": [
    {
     "name": "stdout",
     "output_type": "stream",
     "text": [
      "tensor([2., 3.], dtype=torch.float64)\n",
      "\n",
      "dimension= 1\n",
      "torch.Size([2])\n"
     ]
    }
   ],
   "source": [
    "v = y[1]\n",
    "print(v)\n",
    "\n",
    "print(\"\")\n",
    "\n",
    "print(\"dimension=\", v.dim())\n",
    "print(v.size())"
   ]
  },
  {
   "cell_type": "code",
   "execution_count": 39,
   "id": "04debb47",
   "metadata": {},
   "outputs": [
    {
     "name": "stdout",
     "output_type": "stream",
     "text": [
      "tensor([[2., 3.],\n",
      "        [4., 5.],\n",
      "        [6., 7.]], dtype=torch.float64)\n",
      "tensor([[2., 4.],\n",
      "        [4., 4.],\n",
      "        [6., 4.]], dtype=torch.float64)\n"
     ]
    }
   ],
   "source": [
    "print(z)\n",
    "z[:, 1] = 4\n",
    "print(z)"
   ]
  },
  {
   "cell_type": "markdown",
   "id": "4218eb91",
   "metadata": {},
   "source": [
    "this code taken with modification from Xavier Bresson, NUS under MIT licence"
   ]
  },
  {
   "cell_type": "code",
   "execution_count": 40,
   "id": "29f92848",
   "metadata": {},
   "outputs": [
    {
     "data": {
      "text/plain": [
       "'2.8.0+cu129'"
      ]
     },
     "execution_count": 40,
     "metadata": {},
     "output_type": "execute_result"
    }
   ],
   "source": [
    "torch.__version__"
   ]
  }
 ],
 "metadata": {
  "kernelspec": {
   "display_name": ".venv",
   "language": "python",
   "name": "python3"
  },
  "language_info": {
   "codemirror_mode": {
    "name": "ipython",
    "version": 3
   },
   "file_extension": ".py",
   "mimetype": "text/x-python",
   "name": "python",
   "nbconvert_exporter": "python",
   "pygments_lexer": "ipython3",
   "version": "3.13.3"
  }
 },
 "nbformat": 4,
 "nbformat_minor": 5
}
