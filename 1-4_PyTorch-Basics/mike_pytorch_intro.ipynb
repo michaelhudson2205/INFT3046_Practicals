{
 "cells": [
  {
   "cell_type": "markdown",
   "id": "d0fdee15",
   "metadata": {},
   "source": [
    "# Introduction to PyTorch\n",
    "## This file copied by Michael Hudson\n",
    "### What is PyTorch\n",
    "An open source machine learning library for Python."
   ]
  },
  {
   "cell_type": "code",
   "execution_count": 1,
   "id": "9b425fc0",
   "metadata": {},
   "outputs": [],
   "source": [
    "# import the module\n",
    "import torch"
   ]
  },
  {
   "cell_type": "markdown",
   "id": "224bccfb",
   "metadata": {},
   "source": [
    "PyTorch Tensors - a specialised data structure that are very similar to arrays and matrices. In PyTorch, we use tensors to encode the inputs and outputs of a model, as well as the model's parameters.\n",
    "Construct a vector of 3 elements"
   ]
  },
  {
   "cell_type": "code",
   "execution_count": 2,
   "id": "faf6aee8",
   "metadata": {},
   "outputs": [
    {
     "name": "stdout",
     "output_type": "stream",
     "text": [
      "tensor([ 5.3000,  2.1000, -3.1000])\n"
     ]
    }
   ],
   "source": [
    "# define a tensor object\n",
    "x = torch.tensor([5.3, 2.1, -3.1])\n",
    "print(x)"
   ]
  },
  {
   "cell_type": "code",
   "execution_count": 3,
   "id": "094052d3",
   "metadata": {},
   "outputs": [
    {
     "name": "stdout",
     "output_type": "stream",
     "text": [
      "tensor([ 4.5000,  2.3000, -1.5000,  2.0000])\n"
     ]
    }
   ],
   "source": [
    "x = torch.tensor([4.5, 2.3, -1.5, 2])\n",
    "print(x)"
   ]
  },
  {
   "cell_type": "markdown",
   "id": "66e21f6a",
   "metadata": {},
   "source": [
    "Construct a matrix with specified values"
   ]
  },
  {
   "cell_type": "code",
   "execution_count": 4,
   "id": "251a2d75",
   "metadata": {},
   "outputs": [
    {
     "name": "stdout",
     "output_type": "stream",
     "text": [
      "tensor([[5.3000, 2.1000],\n",
      "        [0.2000, 2.1000]])\n"
     ]
    }
   ],
   "source": [
    "A = torch.tensor([[5.3, 2.1], [0.2, 2.1]])\n",
    "print(A)"
   ]
  },
  {
   "cell_type": "code",
   "execution_count": 5,
   "id": "22eb3030",
   "metadata": {},
   "outputs": [
    {
     "name": "stdout",
     "output_type": "stream",
     "text": [
      "tensor([[1.5000, 2.0000],\n",
      "        [3.1000, 4.2000]])\n"
     ]
    }
   ],
   "source": [
    "A = torch.tensor([[1.5, 2.0], [3.1, 4.2]])\n",
    "print(A)"
   ]
  },
  {
   "cell_type": "markdown",
   "id": "4a1db2eb",
   "metadata": {},
   "source": [
    "Construct a matrix with random or fixed values\n",
    "- `torch.rand` - returns a tensor filled with random numbers from a uniform distribution on the interval [0, 1)\n",
    "(https://pytorch.org/docs/stable/generated/torch.rand.html)\n",
    "- `torch.zeros` - returns a tensor filled with the scalar value 0\n",
    "(https://pytorch.org/docs/stable/generated/torch.zeros.html)\n",
    "- `torch.ones` - returns a tensor filled with the scalar value 1\n",
    "(https://pytorch.org/docs/stable/generated/torch.ones.html)"
   ]
  },
  {
   "cell_type": "code",
   "execution_count": 6,
   "id": "1db9fe69",
   "metadata": {},
   "outputs": [
    {
     "name": "stdout",
     "output_type": "stream",
     "text": [
      "tensor([[0.2657, 0.9892],\n",
      "        [0.4246, 0.2396],\n",
      "        [0.8476, 0.7504],\n",
      "        [0.1289, 0.0515],\n",
      "        [0.7309, 0.5883],\n",
      "        [0.9416, 0.5218],\n",
      "        [0.6238, 0.6773],\n",
      "        [0.8438, 0.7929],\n",
      "        [0.6230, 0.9505],\n",
      "        [0.9723, 0.7577]])\n"
     ]
    }
   ],
   "source": [
    "A = torch.rand(10, 2)\n",
    "print(A)"
   ]
  },
  {
   "cell_type": "code",
   "execution_count": 7,
   "id": "7ef09d37",
   "metadata": {},
   "outputs": [
    {
     "name": "stdout",
     "output_type": "stream",
     "text": [
      "tensor([[0.6184, 0.1100, 0.5257],\n",
      "        [0.6420, 0.6256, 0.7248],\n",
      "        [0.4681, 0.1568, 0.3778],\n",
      "        [0.0602, 0.7436, 0.2420],\n",
      "        [0.6754, 0.5832, 0.8399],\n",
      "        [0.5841, 0.1865, 0.7701],\n",
      "        [0.6351, 0.1927, 0.6729],\n",
      "        [0.1803, 0.9245, 0.5901],\n",
      "        [0.5284, 0.0152, 0.9698],\n",
      "        [0.4239, 0.3933, 0.7191]])\n"
     ]
    }
   ],
   "source": [
    "A = torch.rand(10, 3)\n",
    "print(A)"
   ]
  },
  {
   "cell_type": "code",
   "execution_count": 9,
   "id": "e4323b7c",
   "metadata": {},
   "outputs": [
    {
     "name": "stdout",
     "output_type": "stream",
     "text": [
      "tensor([[0., 0.],\n",
      "        [0., 0.],\n",
      "        [0., 0.],\n",
      "        [0., 0.],\n",
      "        [0., 0.],\n",
      "        [0., 0.],\n",
      "        [0., 0.],\n",
      "        [0., 0.],\n",
      "        [0., 0.],\n",
      "        [0., 0.]])\n"
     ]
    }
   ],
   "source": [
    "A = torch.zeros(10, 2)\n",
    "print(A)"
   ]
  },
  {
   "cell_type": "code",
   "execution_count": 22,
   "id": "f75df848",
   "metadata": {},
   "outputs": [
    {
     "name": "stdout",
     "output_type": "stream",
     "text": [
      "tensor([[1., 1., 1.],\n",
      "        [1., 1., 1.],\n",
      "        [1., 1., 1.],\n",
      "        [1., 1., 1.],\n",
      "        [1., 1., 1.],\n",
      "        [1., 1., 1.],\n",
      "        [1., 1., 1.],\n",
      "        [1., 1., 1.],\n",
      "        [1., 1., 1.],\n",
      "        [1., 1., 1.]])\n",
      "tensor([[1., 0., 1.],\n",
      "        [1., 0., 1.],\n",
      "        [1., 0., 1.],\n",
      "        [1., 0., 1.],\n",
      "        [1., 0., 1.],\n",
      "        [1., 0., 1.],\n",
      "        [1., 0., 1.],\n",
      "        [1., 0., 1.],\n",
      "        [1., 0., 1.],\n",
      "        [1., 0., 1.]])\n"
     ]
    }
   ],
   "source": [
    "A = torch.ones(10, 3)\n",
    "print(A)\n",
    "A[:, 1] = 0\n",
    "print(A)"
   ]
  },
  {
   "cell_type": "markdown",
   "id": "fbad979b",
   "metadata": {},
   "source": [
    "Attributes of a Tensor\n",
    "- `torch.Tensor.size` - returns the size of the self tensor. If dim is not specified, the returned value is a torch.Size, a subclass of tuple. If dim is specified, returns an int holding the size of that dimension. (https://pytorch.org/docs/stable/generated/torch.Tensor.size.html)\n",
    "- `torch.Tensor.dim` - returns the number of dimensions of self tensor. (https://pytorch.org/docs/stable/generated/torch.Tensor.dim.html)\n",
    "- `torch.Tensor.type` - returns the type if dtype is not provided, else casts this object to the specified type. (https://pytorch.org/docs/stable/generated/torch.Tensor.type.html)"
   ]
  },
  {
   "cell_type": "code",
   "execution_count": 11,
   "id": "9c5ca5fc",
   "metadata": {},
   "outputs": [
    {
     "name": "stdout",
     "output_type": "stream",
     "text": [
      "tensor([[[0.8801, 0.0409],\n",
      "         [0.6446, 0.4188]],\n",
      "\n",
      "        [[0.1819, 0.2604],\n",
      "         [0.9541, 0.2302]],\n",
      "\n",
      "        [[0.3273, 0.7806],\n",
      "         [0.0587, 0.9029]],\n",
      "\n",
      "        [[0.7097, 0.2613],\n",
      "         [0.2945, 0.0705]],\n",
      "\n",
      "        [[0.0240, 0.5795],\n",
      "         [0.4577, 0.4694]]])\n"
     ]
    }
   ],
   "source": [
    "B = torch.rand(5, 2, 2)\n",
    "print(B)"
   ]
  },
  {
   "cell_type": "code",
   "execution_count": 12,
   "id": "58bcbbe1",
   "metadata": {},
   "outputs": [
    {
     "name": "stdout",
     "output_type": "stream",
     "text": [
      "tensor([[[0.7654, 0.0515, 0.4692],\n",
      "         [0.1765, 0.2156, 0.9284],\n",
      "         [0.8509, 0.6361, 0.5469]],\n",
      "\n",
      "        [[0.0380, 0.4264, 0.2363],\n",
      "         [0.8436, 0.3405, 0.7450],\n",
      "         [0.1256, 0.8935, 0.1176]],\n",
      "\n",
      "        [[0.5021, 0.2333, 0.5198],\n",
      "         [0.7793, 0.9656, 0.7088],\n",
      "         [0.0413, 0.5024, 0.6372]],\n",
      "\n",
      "        [[0.1093, 0.8318, 0.8035],\n",
      "         [0.9164, 0.0210, 0.1169],\n",
      "         [0.0411, 0.2325, 0.1271]],\n",
      "\n",
      "        [[0.2750, 0.6923, 0.8362],\n",
      "         [0.3193, 0.2008, 0.2856],\n",
      "         [0.7797, 0.1916, 0.1927]]])\n"
     ]
    }
   ],
   "source": [
    "C = torch.rand(5, 3, 3)\n",
    "print(C)"
   ]
  },
  {
   "cell_type": "code",
   "execution_count": 13,
   "id": "cea25779",
   "metadata": {},
   "outputs": [
    {
     "data": {
      "text/plain": [
       "torch.Size([5, 2, 2])"
      ]
     },
     "execution_count": 13,
     "metadata": {},
     "output_type": "execute_result"
    }
   ],
   "source": [
    "B.size()"
   ]
  },
  {
   "cell_type": "code",
   "execution_count": 14,
   "id": "127cc480",
   "metadata": {},
   "outputs": [
    {
     "data": {
      "text/plain": [
       "3"
      ]
     },
     "execution_count": 14,
     "metadata": {},
     "output_type": "execute_result"
    }
   ],
   "source": [
    "B.dim()"
   ]
  },
  {
   "cell_type": "code",
   "execution_count": 15,
   "id": "95321ad7",
   "metadata": {},
   "outputs": [
    {
     "data": {
      "text/plain": [
       "'torch.FloatTensor'"
      ]
     },
     "execution_count": 15,
     "metadata": {},
     "output_type": "execute_result"
    }
   ],
   "source": [
    "B.type()"
   ]
  },
  {
   "cell_type": "code",
   "execution_count": 16,
   "id": "201ed73a",
   "metadata": {},
   "outputs": [
    {
     "data": {
      "text/plain": [
       "torch.Size([5, 3, 3])"
      ]
     },
     "execution_count": 16,
     "metadata": {},
     "output_type": "execute_result"
    }
   ],
   "source": [
    "C.size()"
   ]
  },
  {
   "cell_type": "code",
   "execution_count": 17,
   "id": "44ed3b05",
   "metadata": {},
   "outputs": [
    {
     "data": {
      "text/plain": [
       "'torch.FloatTensor'"
      ]
     },
     "execution_count": 17,
     "metadata": {},
     "output_type": "execute_result"
    }
   ],
   "source": [
    "C.type()"
   ]
  },
  {
   "cell_type": "code",
   "execution_count": 18,
   "id": "53ef027e",
   "metadata": {},
   "outputs": [
    {
     "data": {
      "text/plain": [
       "3"
      ]
     },
     "execution_count": 18,
     "metadata": {},
     "output_type": "execute_result"
    }
   ],
   "source": [
    "C.dim()"
   ]
  },
  {
   "cell_type": "markdown",
   "id": "c49fbb73",
   "metadata": {},
   "source": [
    "Arithmetic operations of tensors\n",
    "- Addition - `+`\n",
    "- Subtraction - `-`\n",
    "- Multiplication\n",
    "  - Elementwise product: `*` or `torch.mul`\n",
    "  - Matrix multiplication: `torch.matmul` or `torch.mm`\n",
    "- Division - `/`\n",
    "\n",
    "Tips\n",
    "- Check tensor sizes for algebra computations like multiplication `torch.mm(X1, X2)` with `X1.size()`, `X2.size()`. Refer to **Broadcasting Semantics** for details: (https://pytorch.org/docs/stable/notes/broadcasting.html#broadcasting-semantics).\n",
    "- Check tensor type for data manipulations with `X.type()`"
   ]
  },
  {
   "cell_type": "code",
   "execution_count": 19,
   "id": "6666788a",
   "metadata": {},
   "outputs": [
    {
     "name": "stdout",
     "output_type": "stream",
     "text": [
      "A:  tensor([[0.9241, 0.0110],\n",
      "        [0.2890, 0.3500]])\n",
      "\n",
      "B:  tensor([[0.8781, 0.2158],\n",
      "        [0.4983, 0.2876]])\n",
      "\n",
      "C:  tensor([[1.7561, 0.4316],\n",
      "        [0.9966, 0.5751]])\n",
      "\n",
      "D:  tensor([[2.6802, 0.4427],\n",
      "        [1.2855, 0.9251]])\n",
      "\n",
      "E:  tensor([[0.8114, 0.0024],\n",
      "        [0.1440, 0.1006]])\n"
     ]
    }
   ],
   "source": [
    "A = torch.rand(2, 2)\n",
    "B = torch.rand(2, 2)\n",
    "\n",
    "C = 2 * B\n",
    "D = A + C\n",
    "E = A * B\n",
    "\n",
    "print(\"A: \", A)\n",
    "print(\"\")\n",
    "print(\"B: \", B)\n",
    "print(\"\")\n",
    "print(\"C: \", C)\n",
    "print(\"\")\n",
    "print(\"D: \", D)\n",
    "print(\"\")\n",
    "print(\"E: \", E)"
   ]
  },
  {
   "cell_type": "code",
   "execution_count": 20,
   "id": "a9434a7d",
   "metadata": {},
   "outputs": [
    {
     "name": "stdout",
     "output_type": "stream",
     "text": [
      "A:  tensor([[0.5802, 0.1614],\n",
      "        [0.4006, 0.6998]])\n",
      "\n",
      "B:  tensor([[0.9918, 0.4050],\n",
      "        [0.0949, 0.2636]])\n",
      "\n",
      "C:  tensor([[0.5754, 0.0654],\n",
      "        [0.0380, 0.1845]])\n",
      "\n",
      "D:  tensor([[1.5672, 0.4704],\n",
      "        [0.1329, 0.4481]])\n",
      "\n",
      "E:  tensor([[-0.0047, -0.0960],\n",
      "        [-0.3626, -0.5154]])\n"
     ]
    }
   ],
   "source": [
    "A = torch.rand(2, 2)\n",
    "B = torch.rand(2, 2)\n",
    "\n",
    "C = A * B\n",
    "D = C + B\n",
    "E = C - A\n",
    "\n",
    "print(\"A: \", A)\n",
    "print(\"\")\n",
    "print(\"B: \", B)\n",
    "print(\"\")\n",
    "print(\"C: \", C)\n",
    "print(\"\")\n",
    "print(\"D: \", D)\n",
    "print(\"\")\n",
    "print(\"E: \", E)"
   ]
  },
  {
   "cell_type": "markdown",
   "id": "4219e228",
   "metadata": {},
   "source": [
    "Other tensor operations and functions\n",
    "- `torch.arange` - returns a 1-D tensor of size (end - start)/step with values from the interval [start, end] taken with common difference step beginning from start. (https://pytorch.org/docs/stable/generated/torch.arange.html)\n",
    "- `torch.randperm` - returns a random permutation of integers from 0 to n-1. (https://pytorch.org/docs/stable/generated/torch.randperm.html)\n",
    "- `torch.Tensor.view` - returns a new tensor with the same data as the self tensor but of a different shape. (https://pytorch.org/docs/stable/generated/torch.Tensor.view.html) *Note that the original tensor x was NOT modified*\n",
    "- `torch.Tensor.to` - returns a Tensor with the specified dtype. (https://pytorch.org/docs/stable/generated/torch.Tensor.to.html#torch.Tensor.to)\n",
    "- Indexing and slicing - `tensor[0]` returns the first row, `tensor[:, 0]` returns the first column\n",
    "- Updating values in a tensor - `tensor[:, 1] = 0` sets the second column to value 1"
   ]
  },
  {
   "cell_type": "code",
   "execution_count": 23,
   "id": "fbfd711d",
   "metadata": {},
   "outputs": [
    {
     "name": "stdout",
     "output_type": "stream",
     "text": [
      "tensor([0, 1, 2, 3, 4, 5, 6, 7, 8, 9])\n",
      "torch.LongTensor\n"
     ]
    }
   ],
   "source": [
    "x = torch.arange(10)\n",
    "print(x)\n",
    "print(x.type())"
   ]
  },
  {
   "cell_type": "code",
   "execution_count": 24,
   "id": "66371747",
   "metadata": {},
   "outputs": [
    {
     "name": "stdout",
     "output_type": "stream",
     "text": [
      "tensor([0, 1, 2, 3, 4])\n",
      "torch.LongTensor\n"
     ]
    }
   ],
   "source": [
    "x = torch.arange(5)\n",
    "print(x)\n",
    "print(x.type())"
   ]
  },
  {
   "cell_type": "code",
   "execution_count": 25,
   "id": "a0fdce90",
   "metadata": {},
   "outputs": [
    {
     "name": "stdout",
     "output_type": "stream",
     "text": [
      "tensor([4, 3, 0, 2, 1])\n",
      "torch.LongTensor\n"
     ]
    }
   ],
   "source": [
    "x = torch.randperm(5)\n",
    "print(x)\n",
    "print(x.type())"
   ]
  },
  {
   "cell_type": "code",
   "execution_count": 26,
   "id": "95f08c80",
   "metadata": {},
   "outputs": [
    {
     "name": "stdout",
     "output_type": "stream",
     "text": [
      "tensor([2, 6, 9, 1, 3, 0, 8, 5, 4, 7])\n",
      "torch.LongTensor\n"
     ]
    }
   ],
   "source": [
    "x = torch.randperm(10)\n",
    "print(x)\n",
    "print(x.type())"
   ]
  },
  {
   "cell_type": "code",
   "execution_count": 27,
   "id": "41f36508",
   "metadata": {},
   "outputs": [
    {
     "name": "stdout",
     "output_type": "stream",
     "text": [
      "tensor([0, 1, 2, 3, 4, 5, 6, 7, 8, 9])\n",
      "torch.LongTensor\n"
     ]
    }
   ],
   "source": [
    "x = torch.arange(10).long()\n",
    "print(x)\n",
    "print(x.type())"
   ]
  },
  {
   "cell_type": "code",
   "execution_count": 28,
   "id": "8820b466",
   "metadata": {},
   "outputs": [
    {
     "name": "stdout",
     "output_type": "stream",
     "text": [
      "tensor([0, 1, 2, 3, 4, 5, 6, 7, 8, 9])\n"
     ]
    }
   ],
   "source": [
    "x = torch.arange(10)\n",
    "print(x)"
   ]
  },
  {
   "cell_type": "code",
   "execution_count": 29,
   "id": "8b87f83f",
   "metadata": {},
   "outputs": [
    {
     "name": "stdout",
     "output_type": "stream",
     "text": [
      "tensor([[0, 1, 2, 3, 4],\n",
      "        [5, 6, 7, 8, 9]])\n"
     ]
    }
   ],
   "source": [
    "print(x.view(2, 5))"
   ]
  },
  {
   "cell_type": "code",
   "execution_count": 30,
   "id": "9c5e186b",
   "metadata": {},
   "outputs": [
    {
     "name": "stdout",
     "output_type": "stream",
     "text": [
      "tensor([[0, 1],\n",
      "        [2, 3],\n",
      "        [4, 5],\n",
      "        [6, 7],\n",
      "        [8, 9]])\n"
     ]
    }
   ],
   "source": [
    "print(x.view(5, 2))"
   ]
  },
  {
   "cell_type": "code",
   "execution_count": 31,
   "id": "9e6195c2",
   "metadata": {},
   "outputs": [
    {
     "name": "stdout",
     "output_type": "stream",
     "text": [
      "tensor([0, 1, 2, 3, 4, 5, 6, 7, 8, 9])\n"
     ]
    }
   ],
   "source": [
    "# the original tensor x remains unchanged\n",
    "print(x)"
   ]
  },
  {
   "cell_type": "code",
   "execution_count": 32,
   "id": "27620f15",
   "metadata": {},
   "outputs": [
    {
     "name": "stdout",
     "output_type": "stream",
     "text": [
      "x:  tensor([0, 1, 2, 3, 4, 5, 6, 7, 8, 9])\n",
      "\n",
      "y:  tensor([[0, 1],\n",
      "        [2, 3],\n",
      "        [4, 5],\n",
      "        [6, 7],\n",
      "        [8, 9]])\n"
     ]
    }
   ],
   "source": [
    "# create a new tensor y to store the reshaped tensor x\n",
    "y = x.view(5, 2)\n",
    "\n",
    "print(\"x: \", x)\n",
    "print(\"\")\n",
    "print(\"y: \", y)"
   ]
  },
  {
   "cell_type": "code",
   "execution_count": 33,
   "id": "afa73147",
   "metadata": {},
   "outputs": [
    {
     "name": "stdout",
     "output_type": "stream",
     "text": [
      "tensor([[0., 1.],\n",
      "        [2., 3.],\n",
      "        [4., 5.],\n",
      "        [6., 7.],\n",
      "        [8., 9.]], dtype=torch.float64)\n"
     ]
    }
   ],
   "source": [
    "y = y.to(torch.float64)\n",
    "print(y)"
   ]
  },
  {
   "cell_type": "code",
   "execution_count": 34,
   "id": "d763f47d",
   "metadata": {},
   "outputs": [
    {
     "name": "stdout",
     "output_type": "stream",
     "text": [
      "tensor([0., 1.], dtype=torch.float64)\n"
     ]
    }
   ],
   "source": [
    "print(y[0])"
   ]
  },
  {
   "cell_type": "code",
   "execution_count": 35,
   "id": "0e6d184d",
   "metadata": {},
   "outputs": [
    {
     "name": "stdout",
     "output_type": "stream",
     "text": [
      "tensor([2., 3.], dtype=torch.float64)\n"
     ]
    }
   ],
   "source": [
    "print(y[1])"
   ]
  },
  {
   "cell_type": "code",
   "execution_count": 36,
   "id": "6a06cb6b",
   "metadata": {},
   "outputs": [
    {
     "name": "stdout",
     "output_type": "stream",
     "text": [
      "tensor([4., 5.], dtype=torch.float64)\n"
     ]
    }
   ],
   "source": [
    "v = y[2]\n",
    "print(v)"
   ]
  },
  {
   "cell_type": "code",
   "execution_count": 37,
   "id": "f0d02a55",
   "metadata": {},
   "outputs": [
    {
     "name": "stdout",
     "output_type": "stream",
     "text": [
      "tensor([[2., 3.],\n",
      "        [4., 5.],\n",
      "        [6., 7.]], dtype=torch.float64)\n"
     ]
    }
   ],
   "source": [
    "print(y[1:4])"
   ]
  },
  {
   "cell_type": "code",
   "execution_count": 38,
   "id": "97b9f0c5",
   "metadata": {},
   "outputs": [
    {
     "name": "stdout",
     "output_type": "stream",
     "text": [
      "tensor([[2., 3.],\n",
      "        [4., 5.],\n",
      "        [6., 7.]], dtype=torch.float64)\n"
     ]
    }
   ],
   "source": [
    "idx = 1\n",
    "n = 3\n",
    "\n",
    "print(y[idx : idx + n])"
   ]
  },
  {
   "cell_type": "code",
   "execution_count": 39,
   "id": "306dcd30",
   "metadata": {},
   "outputs": [
    {
     "name": "stdout",
     "output_type": "stream",
     "text": [
      "tensor([[2., 3.],\n",
      "        [4., 5.],\n",
      "        [6., 7.]], dtype=torch.float64)\n",
      "\n",
      "dimension= 2\n",
      "torch.Size([3, 2])\n"
     ]
    }
   ],
   "source": [
    "z = y[1 : 1 + 3]\n",
    "print(z)\n",
    "\n",
    "print(\"\")\n",
    "\n",
    "print(\"dimension=\", z.dim())\n",
    "print(z.size())"
   ]
  },
  {
   "cell_type": "code",
   "execution_count": 40,
   "id": "d4fbf4af",
   "metadata": {},
   "outputs": [
    {
     "name": "stdout",
     "output_type": "stream",
     "text": [
      "tensor([2., 3.], dtype=torch.float64)\n",
      "\n",
      "dimension= 1\n",
      "torch.Size([2])\n"
     ]
    }
   ],
   "source": [
    "v = y[1]\n",
    "print(v)\n",
    "\n",
    "print(\"\")\n",
    "\n",
    "print(\"dimension=\", v.dim())\n",
    "print(v.size())"
   ]
  },
  {
   "cell_type": "code",
   "execution_count": 41,
   "id": "04debb47",
   "metadata": {},
   "outputs": [
    {
     "name": "stdout",
     "output_type": "stream",
     "text": [
      "tensor([[2., 3.],\n",
      "        [4., 5.],\n",
      "        [6., 7.]], dtype=torch.float64)\n",
      "tensor([[2., 4.],\n",
      "        [4., 4.],\n",
      "        [6., 4.]], dtype=torch.float64)\n"
     ]
    }
   ],
   "source": [
    "print(z)\n",
    "z[:, 1] = 4\n",
    "print(z)"
   ]
  },
  {
   "cell_type": "markdown",
   "id": "4218eb91",
   "metadata": {},
   "source": [
    "this code taken with modification from Xavier Bresson, NUS under MIT licence"
   ]
  }
 ],
 "metadata": {
  "kernelspec": {
   "display_name": ".venv",
   "language": "python",
   "name": "python3"
  },
  "language_info": {
   "codemirror_mode": {
    "name": "ipython",
    "version": 3
   },
   "file_extension": ".py",
   "mimetype": "text/x-python",
   "name": "python",
   "nbconvert_exporter": "python",
   "pygments_lexer": "ipython3",
   "version": "3.13.3"
  }
 },
 "nbformat": 4,
 "nbformat_minor": 5
}
